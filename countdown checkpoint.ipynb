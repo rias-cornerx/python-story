{
 "cells": [
  {
   "cell_type": "markdown",
   "id": "d0201fa3",
   "metadata": {},
   "source": [
    "In this project, we will be using the time module and its sleep() function. \n",
    "Follow the below steps to create a countdown timer:\n",
    "\n",
    "Import the time module.\n",
    "Ask the user to input the length of the countdown in seconds.\n",
    "This value is sent as a parameter ‘t’ to the user-defined function countdown(). \n",
    "Any variable read using the input function is a string. \n",
    "So, convert this parameter to ‘int’ as it is of string type.\n",
    "In this function, a while loop runs until time becomes 0.\n",
    "Use divmod() to calculate the number of minutes and seconds. \n",
    "You can read more about it here.\n",
    "Now print the minutes and seconds on the screen using the variable timeformat.\n",
    "Using end = ‘\\r’ we force the cursor to go back to the start of the screen (carriage return) \n",
    "so that the next line printed will overwrite the previous one.\n",
    "The time.sleep() is used to make the code wait for one sec.\n",
    "Now decrement time so that the while loop can converge.\n",
    "After the completion of the loop, we will print “Fire in the hole” to signify the end of the countdown."
   ]
  },
  {
   "cell_type": "code",
   "execution_count": 2,
   "id": "cd6d5060",
   "metadata": {},
   "outputs": [
    {
     "name": "stdout",
     "output_type": "stream",
     "text": [
      "Fire in the hole\n"
     ]
    }
   ],
   "source": [
    "import time\n",
    "\n",
    "#input the length of the countdown in second\n",
    "#which we set as the parameter t in the countdown() function\n",
    "\n",
    "def countdown(t):\n",
    "    #convert the input 't' to integer\n",
    "    t = int(t)\n",
    "    \n",
    "    while t:\n",
    "        \n",
    "        #Use divmod() to calculate the number of minutes and seconds.\n",
    "        mins, secs = divmod(t, 60)\n",
    "        timer = '{:02d}:{:02d}'.format(mins, secs)\n",
    "        print(timer, end = '\\r')\n",
    "        time.sleep(1)\n",
    "        t -= 1\n",
    "        \n",
    "    print(\"Fire in the hole\")   \n",
    "        \n",
    "t = 4\n",
    "countdown(t)"
   ]
  },
  {
   "cell_type": "code",
   "execution_count": null,
   "id": "849a47f1",
   "metadata": {},
   "outputs": [],
   "source": []
  },
  {
   "cell_type": "code",
   "execution_count": null,
   "id": "8c846524",
   "metadata": {},
   "outputs": [],
   "source": []
  }
 ],
 "metadata": {
  "kernelspec": {
   "display_name": "Python 3 (ipykernel)",
   "language": "python",
   "name": "python3"
  },
  "language_info": {
   "codemirror_mode": {
    "name": "ipython",
    "version": 3
   },
   "file_extension": ".py",
   "mimetype": "text/x-python",
   "name": "python",
   "nbconvert_exporter": "python",
   "pygments_lexer": "ipython3",
   "version": "3.9.7"
  }
 },
 "nbformat": 4,
 "nbformat_minor": 5
}
