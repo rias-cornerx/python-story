{
 "cells": [
  {
   "cell_type": "markdown",
   "id": "3ce3daae",
   "metadata": {},
   "source": [
    "Objective\n",
    "1. Write a Python program for a binary search.\n",
    "Test Data: \n",
    "* binary_search([1,2,3,5,8], 6) -> False\n",
    "* binary_search([1,2,3,5,8], 5) -> True\n",
    "     2. Write a Python program to calculate the value of 'a' to the power 'b'.\n",
    "Test Data: \n",
    "* (power(3,4) -> 81\n",
    "       3. Write a Python program to sort a list of elements using the bubble sort algorithm.\n",
    "Sample Data: [29,13,22,37,52,49,46,71,56]\n",
    "Expected result: [13, 22, 29, 37, 42, 46, 49, 56, 71]\n",
    "      4. Write a Python program to sort a list of elements using the merge sort algorithm.\n",
    "Sample Data: [29,13,22,37,52,49,46,71,56]\n",
    "Expected result: [13, 22, 29, 37, 42, 46, 49, 56, 71]\n",
    "       5. Write a Python program to sort a list of elements using the quick sort algorithm.\n",
    "Sample Data: [29,13,22,37,52,49,46,71,56]\n",
    "Expected result: [13, 22, 29, 37, 42, 46, 49, 56, 71]"
   ]
  },
  {
   "cell_type": "markdown",
   "id": "f409a027",
   "metadata": {},
   "source": [
    "# 1"
   ]
  },
  {
   "cell_type": "code",
   "execution_count": 1,
   "id": "382c1856",
   "metadata": {
    "scrolled": false
   },
   "outputs": [
    {
     "name": "stdout",
     "output_type": "stream",
     "text": [
      "true\n",
      "true\n"
     ]
    },
    {
     "data": {
      "text/plain": [
       "3"
      ]
     },
     "execution_count": 1,
     "metadata": {},
     "output_type": "execute_result"
    }
   ],
   "source": [
    "def binary_search(Test_Data, item):\n",
    "    begin_index = 0\n",
    "    end_index = len(Test_Data) - 1\n",
    "    \n",
    "        \n",
    "    while begin_index <= end_index:\n",
    "        mid = int(begin_index + (end_index - begin_index) // 2)\n",
    "        mid_value = Test_Data[mid]\n",
    "        print('true')\n",
    "        \n",
    "         \n",
    "        if mid_value == item:\n",
    "            return mid\n",
    "        \n",
    "        elif item < mid_value:\n",
    "            end_index = mid - 1\n",
    "            \n",
    "        else:\n",
    "            begin_index = mid + 1\n",
    "            \n",
    "    return False\n",
    "\n",
    "Test_Data1 = [1,2,3,5,8]\n",
    "item1 = 5\n",
    "\n",
    "item2 = 6\n",
    "\n",
    "\n",
    "binary_search(Test_Data1,item1)\n",
    "\n"
   ]
  },
  {
   "cell_type": "code",
   "execution_count": 2,
   "id": "6abde0d7",
   "metadata": {
    "scrolled": true
   },
   "outputs": [
    {
     "name": "stdout",
     "output_type": "stream",
     "text": [
      "true\n",
      "true\n",
      "true\n"
     ]
    },
    {
     "data": {
      "text/plain": [
       "False"
      ]
     },
     "execution_count": 2,
     "metadata": {},
     "output_type": "execute_result"
    }
   ],
   "source": [
    "binary_search(Test_Data1, item2)"
   ]
  },
  {
   "cell_type": "markdown",
   "id": "7bec6864",
   "metadata": {},
   "source": [
    "# 2"
   ]
  },
  {
   "cell_type": "code",
   "execution_count": 3,
   "id": "f7dacb9b",
   "metadata": {},
   "outputs": [
    {
     "name": "stdout",
     "output_type": "stream",
     "text": [
      "81\n"
     ]
    }
   ],
   "source": [
    "\n",
    "def power(a,b):\n",
    "       \n",
    "    if b == 0:\n",
    "        return 1\n",
    "    \n",
    "    else:\n",
    "        return a * pow(a,b - 1)\n",
    "\n",
    "    \n",
    "p = power(3,4)\n",
    "print(p)"
   ]
  },
  {
   "cell_type": "code",
   "execution_count": null,
   "id": "ac39b4cb",
   "metadata": {},
   "outputs": [],
   "source": []
  },
  {
   "cell_type": "markdown",
   "id": "53aa552d",
   "metadata": {},
   "source": [
    "# 3"
   ]
  },
  {
   "cell_type": "code",
   "execution_count": 4,
   "id": "06f551c8",
   "metadata": {},
   "outputs": [
    {
     "data": {
      "text/plain": [
       "[13, 22, 29, 37, 46, 49, 52, 56, 71]"
      ]
     },
     "execution_count": 4,
     "metadata": {},
     "output_type": "execute_result"
    }
   ],
   "source": [
    "def bubbleSort(nlist):\n",
    "    for passnum in range(len(nlist)-1,0,-1):\n",
    "        for i in range(passnum):\n",
    "            if nlist[i]>nlist[i+1]:\n",
    "                temp = nlist[i]\n",
    "                nlist[i] = nlist[i+1]\n",
    "                nlist[i+1] = temp\n",
    "    return nlist\n",
    "\n",
    "nlist = [29,13,22,37,52,49,46,71,56] \n",
    "\n",
    "bubbleSort(nlist)"
   ]
  },
  {
   "cell_type": "markdown",
   "id": "50fd632a",
   "metadata": {},
   "source": [
    "# 4"
   ]
  },
  {
   "cell_type": "code",
   "execution_count": 5,
   "id": "e139d2ff",
   "metadata": {},
   "outputs": [
    {
     "name": "stdout",
     "output_type": "stream",
     "text": [
      "[56, 71, 56, 71, 56, 49, 46, 71, 56]\n"
     ]
    }
   ],
   "source": [
    "def mergeSort(myList):\n",
    "    if len(myList) > 1:\n",
    "        mid = len(myList) // 2\n",
    "        left = myList[:mid]\n",
    "        right = myList[mid:]\n",
    "\n",
    "        \n",
    "        mergeSort(left)\n",
    "        mergeSort(right)\n",
    "\n",
    "        \n",
    "        i = 0\n",
    "        j = 0\n",
    "        \n",
    "        \n",
    "        k = 0\n",
    "        \n",
    "        while i < len(left) and j < len(right):\n",
    "            if left[i] < right[j]:\n",
    "                myList[k] = left[i]             \n",
    "                i += 1\n",
    "            \n",
    "            \n",
    "            else:\n",
    "                myList[k] = right[j]\n",
    "                j += 1\n",
    "                k += 1\n",
    "\n",
    "       \n",
    "        while i < len(left):\n",
    "            myList[k] = left[i]\n",
    "            i += 1\n",
    "            k += 1\n",
    "\n",
    "        while j < len(right):\n",
    "            myList[k]=right[j]\n",
    "            j += 1\n",
    "            k += 1\n",
    "\n",
    "myList = [29,13,22,37,52,49,46,71,56]\n",
    "mergeSort(myList)\n",
    "print(myList)\n",
    "            \n",
    "            \n",
    "        "
   ]
  },
  {
   "cell_type": "markdown",
   "id": "7100493d",
   "metadata": {},
   "source": [
    "# 5"
   ]
  },
  {
   "cell_type": "code",
   "execution_count": 6,
   "id": "622050ea",
   "metadata": {},
   "outputs": [],
   "source": [
    "def separate(array, start, end):\n",
    "    pivot = array[start]\n",
    "    low = start + 1\n",
    "    high = end\n",
    "    while True:\n",
    "       \n",
    "        while low <= high and array[high] >= pivot:\n",
    "            high = high - 1\n",
    "\n",
    "     \n",
    "        while low <= high and array[low] <= pivot:\n",
    "            low = low + 1\n",
    "\n",
    "        if low <= high:\n",
    "            array[low], array[high] = array[high], array[low]\n",
    "            \n",
    "        else:\n",
    "            break\n",
    "\n",
    "    array[start], array[high] = array[high], array[start]\n",
    "\n",
    "    return high"
   ]
  },
  {
   "cell_type": "code",
   "execution_count": 7,
   "id": "9ecd3c42",
   "metadata": {},
   "outputs": [],
   "source": [
    "def quick_sort(array, start, end):\n",
    "    if start >= end:\n",
    "        return\n",
    "\n",
    "    p = separate(array, start, end)\n",
    "    quick_sort(array, start, p-1)\n",
    "    quick_sort(array, p+1, end)\n",
    "    \n"
   ]
  },
  {
   "cell_type": "code",
   "execution_count": 8,
   "id": "8ff5f0be",
   "metadata": {
    "scrolled": true
   },
   "outputs": [
    {
     "name": "stdout",
     "output_type": "stream",
     "text": [
      "[13, 22, 29, 37, 42, 46, 49, 56, 71]\n"
     ]
    }
   ],
   "source": [
    "array = [13, 22, 29, 37, 42, 46, 49, 56, 71]\n",
    "quick_sort(array, 0, len(array) - 1)\n",
    "print(array)"
   ]
  },
  {
   "cell_type": "code",
   "execution_count": null,
   "id": "e120c1a1",
   "metadata": {},
   "outputs": [],
   "source": []
  },
  {
   "cell_type": "code",
   "execution_count": null,
   "id": "fadfa4a8",
   "metadata": {},
   "outputs": [],
   "source": []
  },
  {
   "cell_type": "code",
   "execution_count": null,
   "id": "196fa5eb",
   "metadata": {},
   "outputs": [],
   "source": []
  }
 ],
 "metadata": {
  "kernelspec": {
   "display_name": "Python 3 (ipykernel)",
   "language": "python",
   "name": "python3"
  },
  "language_info": {
   "codemirror_mode": {
    "name": "ipython",
    "version": 3
   },
   "file_extension": ".py",
   "mimetype": "text/x-python",
   "name": "python",
   "nbconvert_exporter": "python",
   "pygments_lexer": "ipython3",
   "version": "3.9.7"
  }
 },
 "nbformat": 4,
 "nbformat_minor": 5
}
