{
 "cells": [
  {
   "cell_type": "code",
   "execution_count": 1,
   "id": "68cdc931",
   "metadata": {},
   "outputs": [],
   "source": [
    "#1. Write a Python program to read an entire text file.\n",
    "\n",
    "#2. Write a Python program to read the first n lines of a file.\n",
    "\n",
    "#3. Write a Python program to read the last n lines of a file.\n",
    "\n",
    "#4. Write a Python program that takes a text file as input and returns the number of words of a given text file.\n",
    "\n",
    "#5. (Bonus) Write a Python program to read the last n lines of a file.\n",
    "\n"
   ]
  },
  {
   "cell_type": "code",
   "execution_count": 45,
   "id": "3a9ce736",
   "metadata": {},
   "outputs": [
    {
     "data": {
      "text/plain": [
       "'my first file\\nThis file\\n\\ncontains three lines\\n'"
      ]
     },
     "execution_count": 45,
     "metadata": {},
     "output_type": "execute_result"
    }
   ],
   "source": [
    "f = open(\"test.txt\",'r',encoding = 'utf-8')\n",
    "f.read()\n",
    "\n",
    "#just write your file name in place of \"test.txt\""
   ]
  },
  {
   "cell_type": "code",
   "execution_count": 60,
   "id": "7eb04838",
   "metadata": {},
   "outputs": [
    {
     "data": {
      "text/plain": [
       "['Abstract: Endometrial hyperplasia is an excessive or abnormal thickening of the lining of the uterine endometrium.\\n',\n",
       " 'This process is controlled by two hormones: estrogen and progesterone.\\n',\n",
       " 'This process is controlled by two hormones: estrogen and progesterone.\\n',\n",
       " 'If the hormones are out of balance, excessive growth of the cells lining the uterus may occur,\\n',\n",
       " 'which results in endometrial hyperplasia Endometrial hyperplasia of the uterus, by itself,\\n']"
      ]
     },
     "execution_count": 60,
     "metadata": {},
     "output_type": "execute_result"
    }
   ],
   "source": [
    "with open(\"C:\\\\Users\\\\oghenerhivweadarerhi\\\\Downloads\\\\Abstract.txt\") as myfile:\n",
    "    \n",
    "    firstNlines=myfile.readlines()[0:5]\n",
    "    \n",
    "    #put here the interval you want\n",
    "    \n",
    "firstNlines"
   ]
  },
  {
   "cell_type": "code",
   "execution_count": 75,
   "id": "6224819d",
   "metadata": {
    "scrolled": true
   },
   "outputs": [
    {
     "data": {
      "text/plain": [
       "['DHEA is C19 multi-functional steroid.\\n',\n",
       " 'Together with its sulfate ester (DHEAS), they are the most abundant steroid in humans.\\n',\n",
       " 'Because DHEA can increase androgen levels in women, and has an indirect estrogenic effect,\\n',\n",
       " 'it may enhance the progression of estrogen and testosterone-sensitive cancers.\\n']"
      ]
     },
     "execution_count": 75,
     "metadata": {},
     "output_type": "execute_result"
    }
   ],
   "source": [
    "with open(\"C:\\\\Users\\\\oghenerhivweadarerhi\\\\Downloads\\\\Abstract.txt\", 'r') as myfile:\n",
    "    \n",
    "    lastNlines=myfile.readlines()[-5 : -1]\n",
    "    \n",
    "    #put here the interval you want\n",
    "    \n",
    "lastNlines"
   ]
  },
  {
   "cell_type": "code",
   "execution_count": 74,
   "id": "9afc5283",
   "metadata": {},
   "outputs": [
    {
     "name": "stdout",
     "output_type": "stream",
     "text": [
      "total =  164\n"
     ]
    }
   ],
   "source": [
    "myfile = open(\"C:\\\\Users\\\\oghenerhivweadarerhi\\\\Downloads\\\\Abstract.txt\" , 'r')\n",
    "    \n",
    "read_file = myfile.read()\n",
    "\n",
    "string = read_file.split()\n",
    "    \n",
    "print(\"total = \", len(string))"
   ]
  },
  {
   "cell_type": "code",
   "execution_count": null,
   "id": "3bd2a248",
   "metadata": {},
   "outputs": [],
   "source": []
  }
 ],
 "metadata": {
  "kernelspec": {
   "display_name": "Python 3 (ipykernel)",
   "language": "python",
   "name": "python3"
  },
  "language_info": {
   "codemirror_mode": {
    "name": "ipython",
    "version": 3
   },
   "file_extension": ".py",
   "mimetype": "text/x-python",
   "name": "python",
   "nbconvert_exporter": "python",
   "pygments_lexer": "ipython3",
   "version": "3.9.7"
  }
 },
 "nbformat": 4,
 "nbformat_minor": 5
}
